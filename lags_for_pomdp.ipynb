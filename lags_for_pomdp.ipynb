{
 "cells": [
  {
   "cell_type": "markdown",
   "metadata": {},
   "source": [
    "# Using Lags to Handle Partial Observability\n",
    "\n",
    "For ReLAx & Mujoco installation see: https://github.com/nslyubaykin/relax/blob/master/README.md\n",
    "\n",
    "!Note: For examining trained actor you may just load trained policies from \\trained_models directory. To do that instead of running 'Run Training and Validation loop' cell, just run 'Load Models' cell\n",
    "\n",
    "!Note: Trained policies, logs and videos are in the main repository of that notebook: https://github.com/nslyubaykin/rnns_for_pomdp"
   ]
  },
  {
   "cell_type": "code",
   "execution_count": 1,
   "metadata": {},
   "outputs": [
    {
     "name": "stderr",
     "output_type": "stream",
     "text": [
      "/home/nikita/.local/lib/python3.6/site-packages/tqdm/auto.py:22: TqdmWarning: IProgress not found. Please update jupyter and ipywidgets. See https://ipywidgets.readthedocs.io/en/stable/user_install.html\n",
      "  from .autonotebook import tqdm as notebook_tqdm\n"
     ]
    }
   ],
   "source": [
    "import gym\n",
    "import torch\n",
    "import numpy as np\n",
    "import matplotlib.pyplot as plt\n",
    "\n",
    "from tqdm import tqdm\n",
    "from inspect import getsource\n",
    "from torch.utils.tensorboard import SummaryWriter\n",
    "\n",
    "from relax.rl.actors import PPO\n",
    "from relax.rl.critics import GAE\n",
    "\n",
    "from relax.zoo.policies import NormalMLP, NormalLSTM\n",
    "from relax.zoo.critics import VMLP, VLSTM\n",
    "\n",
    "from relax.data.sampling import Sampler\n",
    "\n",
    "from relax.gym.utils import visualize_actor"
   ]
  },
  {
   "cell_type": "markdown",
   "metadata": {},
   "source": [
    "In case of partial observability (POMDP - Partially Observed Markov Decision Process) __observations__ returned by the environment does not give the full information about actual environment's __state__. One way to mitigate this problem is to feed policy network with current + N most recent observations instead of the only current one. In theory, this should allow RL actor to reconstruct actual state from recent observations history. \n",
    "\n",
    "__ReLAx__ package offers a simple API to work with lagged observations with the minimal amount of extra coding."
   ]
  },
  {
   "cell_type": "markdown",
   "metadata": {},
   "source": [
    "# Creating POMDP environment\n",
    "\n",
    "To simulate partial observability in a controlled manner we will create a `gym.Wrapper` which masks observations array with zeros with `eps` probability. Through altering `eps` we will control the degree of partial observaility in our experiments.\n",
    "\n",
    "`ZerosMask` is also available through `relax.gym.wrappers.custom`"
   ]
  },
  {
   "cell_type": "code",
   "execution_count": 2,
   "metadata": {},
   "outputs": [],
   "source": [
    "class ZerosMask(gym.Wrapper):  \n",
    "    \n",
    "    \"\"\"\n",
    "    Masks observation's array with zeros with `eps` probability.\n",
    "    To simulate partial observability in a controlled manner.\n",
    "    \"\"\"\n",
    "    \n",
    "    def __init__(self, env, eps):\n",
    "        \n",
    "        gym.Wrapper.__init__(self, env)\n",
    "        self.eps = eps\n",
    "        \n",
    "    def _mask_obs(self, obs):\n",
    "        \n",
    "        # create zero mask according to eps probability\n",
    "        zero_mask = np.random.uniform(size=obs.shape) > self.eps\n",
    "        \n",
    "        # apply mask\n",
    "        masked_obs = obs * zero_mask\n",
    "        \n",
    "        return masked_obs.copy()\n",
    "    \n",
    "    def step(self, action):\n",
    "        \n",
    "        # Step an unwrapped environment\n",
    "        obs, reward, done, info = self.env.step(action)\n",
    "        \n",
    "        return self._mask_obs(obs), reward, done, info\n",
    "    \n",
    "    def reset(self):\n",
    "        return self._mask_obs(self.env.reset())"
   ]
  },
  {
   "cell_type": "markdown",
   "metadata": {},
   "source": [
    "# PPO-GAE actor\n",
    "\n",
    "!Note: For this example we will use PPO-GAE as a base algorithm. We will also use the same setting as in [PPO-GAE example](https://github.com/nslyubaykin/relax_ppo_example/blob/master/ppo_example.ipynb) and for brevity of the tutorial detailed PPO-GAE explanation will be omitted.\n",
    "\n",
    "!Note: You can use lags with any ReLAx algorithms the same way."
   ]
  },
  {
   "cell_type": "markdown",
   "metadata": {},
   "source": [
    "# Creating Lagged Policy Network\n",
    "\n",
    "To process lags history we will use a reccurent neural network with Long Short-Term Memory (LSTM) which parametrises normal distribution.\n",
    "\n",
    "So let's examine the default implementation of stochastic LSTM offered by ReLAx:"
   ]
  },
  {
   "cell_type": "code",
   "execution_count": 3,
   "metadata": {},
   "outputs": [
    {
     "name": "stdout",
     "output_type": "stream",
     "text": [
      "class NormalLSTM(nn.Module):\n",
      "    \n",
      "    def __init__(self, obs_dim, acs_dim, \n",
      "                 seq_len, nlayers_lstm,\n",
      "                 nunits_lstm, nunits_dense, activation=nn.Tanh(),\n",
      "                 out_activation=nn.Identity(),\n",
      "                 acs_scale=1, acs_bias=0,\n",
      "                 init_log_std=0.0,\n",
      "                 pre_process_module=None):\n",
      "        \n",
      "        super(NormalLSTM, self).__init__()\n",
      "        \n",
      "        self.pre_process_module = pre_process_module\n",
      "        self.lstm = nn.LSTM(obs_dim, nunits_lstm, nlayers_lstm)\n",
      "        self.dense1 = nn.Linear(nunits_lstm, nunits_dense)\n",
      "        self.act_dense1 = activation\n",
      "        self.flatten = nn.Flatten()\n",
      "        self.dense_out = nn.Linear(nunits_dense * seq_len, acs_dim)\n",
      "        self.act_out = out_activation\n",
      "        \n",
      "        self.log_stds = nn.Parameter(\n",
      "            torch.ones(acs_dim) * init_log_std\n",
      "        )\n",
      "        \n",
      "        self.acs_scale = acs_scale\n",
      "        self.acs_bias = acs_bias   \n",
      "        \n",
      "    def forward(self, x):\n",
      "        \n",
      "        if self.pre_process_module is not None:\n",
      "            x = self.pre_process_module(x)\n",
      "        \n",
      "        h, _ = self.lstm(x)\n",
      "        dense1 = self.dense1(h)\n",
      "        dense1 = self.act_dense1(dense1)\n",
      "        flatten = self.flatten(dense1)\n",
      "        dense_out = self.dense_out(flatten)\n",
      "        means = self.act_out(dense_out)\n",
      "        means = means * self.acs_scale + self.acs_bias\n",
      "        cov = torch.diag_embed(torch.exp(self.log_stds))\n",
      "        \n",
      "        y = MultivariateNormal(loc=means,\n",
      "                               covariance_matrix=cov)\n",
      "        \n",
      "        return y\n",
      "\n"
     ]
    }
   ],
   "source": [
    "print(getsource(NormalLSTM))"
   ]
  },
  {
   "cell_type": "markdown",
   "metadata": {},
   "source": [
    "# Creating Lagged Value Function For GAE\n",
    "\n",
    "Let's examine the default implementation of VLSTM offered by ReLAx:"
   ]
  },
  {
   "cell_type": "code",
   "execution_count": 4,
   "metadata": {},
   "outputs": [
    {
     "name": "stdout",
     "output_type": "stream",
     "text": [
      "class VLSTM(nn.Module):\n",
      "    \n",
      "    def __init__(self, obs_dim, \n",
      "                 seq_len, nlayers_lstm,\n",
      "                 nunits_lstm, nunits_dense,\n",
      "                 activation=nn.Tanh(),\n",
      "                 out_activation=nn.Identity(),\n",
      "                 pre_process_module=None):\n",
      "        \n",
      "        super(VLSTM, self).__init__()\n",
      "        \n",
      "        self.pre_process_module = pre_process_module\n",
      "        self.lstm = nn.LSTM(obs_dim, nunits_lstm, nlayers_lstm)\n",
      "        self.dense1 = nn.Linear(nunits_lstm, nunits_dense)\n",
      "        self.act_dense1 = activation\n",
      "        self.flatten = nn.Flatten()\n",
      "        self.dense_out = nn.Linear(nunits_dense * seq_len, 1)\n",
      "        self.act_out = out_activation\n",
      "        \n",
      "        \n",
      "    def forward(self, x):\n",
      "        \n",
      "        if self.pre_process_module is not None:\n",
      "            x = self.pre_process_module(x)\n",
      "            \n",
      "        h, _ = self.lstm(x)\n",
      "        dense1 = self.dense1(h)\n",
      "        dense1 = self.act_dense1(dense1)\n",
      "        flatten = self.flatten(dense1)\n",
      "        dense_out = self.dense_out(flatten)\n",
      "        values = self.act_out(dense_out)\n",
      "        return values\n",
      "\n"
     ]
    }
   ],
   "source": [
    "print(getsource(VLSTM))"
   ]
  },
  {
   "cell_type": "markdown",
   "metadata": {},
   "source": [
    "# Creating Lags with ReLAx\n",
    "\n",
    "ReLAx offers a simple interface to use lagged observations by specifying the following args:\n",
    "\n",
    "`obs_nlags`: int - specify the number of lags in addition to current observation\n",
    "\n",
    "`obs_expand_axis`: int or None - if not None, creates an extra dimension in observation array to concat along, if needed\n",
    "\n",
    "`obs_concat_axis`: int - axis to concatenate lags along\n",
    "\n",
    "`obs_padding`: str - ('zeros', 'first') value to pad starting observations with.\n",
    "\n",
    "Input shape for LSTM layer is (BATCH_SIZE, SEQ_LEN, OBS_DIM), so by specifying:\n",
    "\n",
    "`obs_nlags`=N\n",
    "\n",
    "`obs_expand_axis`=0\n",
    "\n",
    "`obs_concat_axis`=0\n",
    "\n",
    "`obs_padding`='zeros'\n",
    "\n",
    "We end up with a stacked lagged observation with a shape (BATCH_SIZE, N+1, OBS_DIM)\n",
    "\n",
    "__To ensure correct lags usage these args should be provided both to learners and samplers.__\n",
    "\n",
    "__Note!: Actor and critic may have different lags settings.__"
   ]
  },
  {
   "cell_type": "markdown",
   "metadata": {},
   "source": [
    "# Run Experiments In a Loop:"
   ]
  },
  {
   "cell_type": "code",
   "execution_count": 18,
   "metadata": {},
   "outputs": [],
   "source": [
    "# Experiment Settings:\n",
    "\n",
    "eps_grid = [0.0, 0.25, 0.5, 0.75] \n",
    "n_lags = 15\n",
    "\n",
    "env_name = 'InvertedPendulum-v2'\n",
    "\n",
    "acs_dim = 1\n",
    "obs_dim = 4\n",
    "n_experiments = 4\n",
    "n_steps = 40 \n",
    "\n",
    "logdir = '/home/nikita/Desktop/RelaxExamples/POMDP/tensorboard_logs'\n",
    "log_every = 1\n",
    "logs_by_run = {}"
   ]
  },
  {
   "cell_type": "code",
   "execution_count": 19,
   "metadata": {},
   "outputs": [
    {
     "name": "stdout",
     "output_type": "stream",
     "text": [
      "Running 0-lag PPO, eps = 0.0...\n"
     ]
    },
    {
     "name": "stderr",
     "output_type": "stream",
     "text": [
      "100%|██████████| 40/40 [22:16<00:00, 33.40s/it]\n",
      "/home/nikita/.local/lib/python3.6/site-packages/torch/optim/lr_scheduler.py:200: UserWarning: Please also save or load the state of the optimzer when saving or loading the scheduler.\n",
      "  warnings.warn(SAVE_STATE_WARNING, UserWarning)\n"
     ]
    },
    {
     "name": "stdout",
     "output_type": "stream",
     "text": [
      "Saved checkpoints for PPO...\n",
      "models_state_dict global_step n_updates optimizer scheduler\n",
      "Saved checkpoints for GAE...\n",
      "models_state_dict global_step n_updates optimizer scheduler\n",
      "Running 15-lag PPO, eps = 0.0...\n"
     ]
    },
    {
     "name": "stderr",
     "output_type": "stream",
     "text": [
      "100%|██████████| 40/40 [33:32<00:00, 50.31s/it]\n",
      "/home/nikita/.local/lib/python3.6/site-packages/torch/optim/lr_scheduler.py:200: UserWarning: Please also save or load the state of the optimzer when saving or loading the scheduler.\n",
      "  warnings.warn(SAVE_STATE_WARNING, UserWarning)\n"
     ]
    },
    {
     "name": "stdout",
     "output_type": "stream",
     "text": [
      "Saved checkpoints for PPO...\n",
      "models_state_dict global_step n_updates optimizer scheduler\n",
      "Saved checkpoints for GAE...\n",
      "models_state_dict global_step n_updates optimizer scheduler\n",
      "Running 0-lag PPO, eps = 0.25...\n"
     ]
    },
    {
     "name": "stderr",
     "output_type": "stream",
     "text": [
      "100%|██████████| 40/40 [19:59<00:00, 29.99s/it]\n",
      "/home/nikita/.local/lib/python3.6/site-packages/torch/optim/lr_scheduler.py:200: UserWarning: Please also save or load the state of the optimzer when saving or loading the scheduler.\n",
      "  warnings.warn(SAVE_STATE_WARNING, UserWarning)\n"
     ]
    },
    {
     "name": "stdout",
     "output_type": "stream",
     "text": [
      "Saved checkpoints for PPO...\n",
      "models_state_dict global_step n_updates optimizer scheduler\n",
      "Saved checkpoints for GAE...\n",
      "models_state_dict global_step n_updates optimizer scheduler\n",
      "Running 15-lag PPO, eps = 0.25...\n"
     ]
    },
    {
     "name": "stderr",
     "output_type": "stream",
     "text": [
      "100%|██████████| 40/40 [31:01<00:00, 46.55s/it]\n",
      "/home/nikita/.local/lib/python3.6/site-packages/torch/optim/lr_scheduler.py:200: UserWarning: Please also save or load the state of the optimzer when saving or loading the scheduler.\n",
      "  warnings.warn(SAVE_STATE_WARNING, UserWarning)\n"
     ]
    },
    {
     "name": "stdout",
     "output_type": "stream",
     "text": [
      "Saved checkpoints for PPO...\n",
      "models_state_dict global_step n_updates optimizer scheduler\n",
      "Saved checkpoints for GAE...\n",
      "models_state_dict global_step n_updates optimizer scheduler\n",
      "Running 0-lag PPO, eps = 0.5...\n"
     ]
    },
    {
     "name": "stderr",
     "output_type": "stream",
     "text": [
      "100%|██████████| 40/40 [14:48<00:00, 22.21s/it]\n",
      "/home/nikita/.local/lib/python3.6/site-packages/torch/optim/lr_scheduler.py:200: UserWarning: Please also save or load the state of the optimzer when saving or loading the scheduler.\n",
      "  warnings.warn(SAVE_STATE_WARNING, UserWarning)\n"
     ]
    },
    {
     "name": "stdout",
     "output_type": "stream",
     "text": [
      "Saved checkpoints for PPO...\n",
      "models_state_dict global_step n_updates optimizer scheduler\n",
      "Saved checkpoints for GAE...\n",
      "models_state_dict global_step n_updates optimizer scheduler\n",
      "Running 15-lag PPO, eps = 0.5...\n"
     ]
    },
    {
     "name": "stderr",
     "output_type": "stream",
     "text": [
      "100%|██████████| 40/40 [26:33<00:00, 39.84s/it]\n",
      "/home/nikita/.local/lib/python3.6/site-packages/torch/optim/lr_scheduler.py:200: UserWarning: Please also save or load the state of the optimzer when saving or loading the scheduler.\n",
      "  warnings.warn(SAVE_STATE_WARNING, UserWarning)\n"
     ]
    },
    {
     "name": "stdout",
     "output_type": "stream",
     "text": [
      "Saved checkpoints for PPO...\n",
      "models_state_dict global_step n_updates optimizer scheduler\n",
      "Saved checkpoints for GAE...\n",
      "models_state_dict global_step n_updates optimizer scheduler\n",
      "Running 0-lag PPO, eps = 0.75...\n"
     ]
    },
    {
     "name": "stderr",
     "output_type": "stream",
     "text": [
      "100%|██████████| 40/40 [14:12<00:00, 21.30s/it]\n",
      "/home/nikita/.local/lib/python3.6/site-packages/torch/optim/lr_scheduler.py:200: UserWarning: Please also save or load the state of the optimzer when saving or loading the scheduler.\n",
      "  warnings.warn(SAVE_STATE_WARNING, UserWarning)\n"
     ]
    },
    {
     "name": "stdout",
     "output_type": "stream",
     "text": [
      "Saved checkpoints for PPO...\n",
      "models_state_dict global_step n_updates optimizer scheduler\n",
      "Saved checkpoints for GAE...\n",
      "models_state_dict global_step n_updates optimizer scheduler\n",
      "Running 15-lag PPO, eps = 0.75...\n"
     ]
    },
    {
     "name": "stderr",
     "output_type": "stream",
     "text": [
      "100%|██████████| 40/40 [24:35<00:00, 36.90s/it]"
     ]
    },
    {
     "name": "stdout",
     "output_type": "stream",
     "text": [
      "Saved checkpoints for PPO...\n",
      "models_state_dict global_step n_updates optimizer scheduler\n",
      "Saved checkpoints for GAE...\n",
      "models_state_dict global_step n_updates optimizer scheduler\n"
     ]
    },
    {
     "name": "stderr",
     "output_type": "stream",
     "text": [
      "\n",
      "/home/nikita/.local/lib/python3.6/site-packages/torch/optim/lr_scheduler.py:200: UserWarning: Please also save or load the state of the optimzer when saving or loading the scheduler.\n",
      "  warnings.warn(SAVE_STATE_WARNING, UserWarning)\n"
     ]
    }
   ],
   "source": [
    "for eps in eps_grid:\n",
    "    \n",
    "    logs_by_run[f'eps_val_{eps}'] = {}\n",
    "    \n",
    "    ########################\n",
    "    # Running unlagged PPO #\n",
    "    ########################\n",
    "    \n",
    "    print(f'Running 0-lag PPO, eps = {eps}...')\n",
    "    \n",
    "    # Logging\n",
    "    run_name = f'0_lag_ppo_{env_name}_eps_{eps}'\n",
    "    logger = SummaryWriter(log_dir=f'{logdir}/{run_name}')\n",
    "    all_logs = []\n",
    "    \n",
    "    # Create training and eval environments\n",
    "    env = ZerosMask(\n",
    "        env=gym.make(env_name),\n",
    "        eps=eps\n",
    "    )\n",
    "    eval_env = ZerosMask(\n",
    "        env=gym.make(env_name),\n",
    "        eps=eps\n",
    "    )\n",
    "    eval_env.seed(np.random.randint(100))\n",
    "    \n",
    "    # Actor & critic:\n",
    "    actor = PPO(\n",
    "        policy_net=NormalMLP(obs_dim, acs_dim, \n",
    "                             nunits=32, nlayers=2,\n",
    "                             out_activation=torch.nn.Identity(),\n",
    "                             init_log_std=-1.0),\n",
    "        device=torch.device('cuda'),\n",
    "        learning_rate=1e-3, \n",
    "        n_epochs_per_update=20, \n",
    "        batch_size=512, \n",
    "        target_kl=0.2, \n",
    "        eps=0.2,\n",
    "        gamma=0.99\n",
    "    )\n",
    "    \n",
    "    critic = GAE(\n",
    "        critic_net=VMLP(obs_dim, nlayers=2, nunits=32),\n",
    "        device=torch.device('cuda'),\n",
    "        learning_rate=2e-3,\n",
    "        batch_size=512,\n",
    "        gamma=0.99,\n",
    "        gae_lambda=0.95,\n",
    "        n_target_updates=1, \n",
    "        n_steps_per_update=20\n",
    "    )\n",
    "\n",
    "    # provide actor with critic\n",
    "    actor.set_critic(critic)\n",
    "    \n",
    "    # Wrap envs into Sampler\n",
    "    sampler = Sampler(env=env)\n",
    "    eval_sampler = Sampler(env=eval_env)\n",
    "    \n",
    "    for step in tqdm(range(n_steps)): \n",
    "    \n",
    "        # sample training batch\n",
    "        train_batch = sampler.sample(actor=actor,\n",
    "                                     n_transitions=5000,\n",
    "                                     max_path_length=None, \n",
    "                                     reset_when_not_done=False,\n",
    "                                     train_sampling=True)\n",
    "\n",
    "        # update critic\n",
    "        critic_logs = critic.update(train_batch)\n",
    "\n",
    "        # update actor\n",
    "        actor_logs = actor.update(train_batch)\n",
    "\n",
    "        # evaluating the policy\n",
    "        eval_batch = eval_sampler.sample_n_episodes(actor=actor,\n",
    "                                                    n_episodes=5,\n",
    "                                                    max_path_length=None, \n",
    "                                                    train_sampling=False)\n",
    "        # Logging\n",
    "        train_logs = train_batch.create_logs(prefix='train')\n",
    "        eval_logs = eval_batch.create_logs(prefix='eval')\n",
    "\n",
    "        logs = {**critic_logs,\n",
    "                **actor_logs,\n",
    "                **train_logs,\n",
    "                **eval_logs}\n",
    "        all_logs.append(logs)\n",
    "\n",
    "        for key, value in logs.items():\n",
    "            logger.add_scalar(key, value, step)\n",
    "\n",
    "    logger.flush()\n",
    "    \n",
    "    # Saving run's logs\n",
    "    logs_by_run[f'eps_val_{eps}'][run_name] = all_logs\n",
    "    \n",
    "    # Saving models:\n",
    "    actor.save_checkpoint('trained_models', run_name+'_actor')\n",
    "    critic.save_checkpoint('trained_models', run_name+'_critic')\n",
    "    \n",
    "    ####################\n",
    "    # Running LSTM PPO #\n",
    "    ####################\n",
    "    \n",
    "    print(f'Running {n_lags}-lag PPO, eps = {eps}...')\n",
    "    \n",
    "    # Logging\n",
    "    run_name = f'{n_lags}_lag_ppo_{env_name}_eps_{eps}'\n",
    "    logger = SummaryWriter(log_dir=f'{logdir}/{run_name}')\n",
    "    all_logs = []\n",
    "    \n",
    "    # Create training and eval environments\n",
    "    env = ZerosMask(\n",
    "        env=gym.make(env_name),\n",
    "        eps=eps\n",
    "    )\n",
    "    eval_env = ZerosMask(\n",
    "        env=gym.make(env_name),\n",
    "        eps=eps\n",
    "    )\n",
    "    eval_env.seed(np.random.randint(100))\n",
    "    \n",
    "    # Actor & critic:\n",
    "    actor = PPO(\n",
    "        policy_net=NormalLSTM(obs_dim, acs_dim, nlayers_lstm=2,\n",
    "                              seq_len=1+n_lags,\n",
    "                              nunits_lstm=32, nunits_dense=8, \n",
    "                              out_activation=torch.nn.Identity(),\n",
    "                              init_log_std=-1.0),\n",
    "        device=torch.device('cuda'),\n",
    "        learning_rate=1e-3, \n",
    "        n_epochs_per_update=20, \n",
    "        batch_size=512, \n",
    "        target_kl=0.2, \n",
    "        eps=0.2,\n",
    "        gamma=0.99,\n",
    "        obs_nlags=n_lags,\n",
    "        obs_expand_axis=0,\n",
    "        obs_concat_axis=0,\n",
    "        obs_padding='zeros'\n",
    "    )\n",
    "    \n",
    "    critic = GAE(\n",
    "        critic_net=VLSTM(obs_dim, nlayers_lstm=2,\n",
    "                         seq_len=1+n_lags,\n",
    "                         nunits_lstm=32, nunits_dense=8),\n",
    "        device=torch.device('cuda'),\n",
    "        learning_rate=1e-3,\n",
    "        batch_size=512,\n",
    "        gamma=0.99,\n",
    "        gae_lambda=0.95,\n",
    "        n_target_updates=1, \n",
    "        n_steps_per_update=20,\n",
    "        obs_nlags=n_lags,\n",
    "        obs_expand_axis=0,\n",
    "        obs_concat_axis=0,\n",
    "        obs_padding='zeros'\n",
    "    )\n",
    "\n",
    "    # provide actor with critic\n",
    "    actor.set_critic(critic)\n",
    "    \n",
    "    # Wrap envs into Sampler\n",
    "    sampler = Sampler(env=env,\n",
    "                      obs_nlags=n_lags,\n",
    "                      obs_expand_axis=0,\n",
    "                      obs_concat_axis=0,\n",
    "                      obs_padding='zeros')\n",
    "    eval_sampler = Sampler(env=eval_env,\n",
    "                           obs_nlags=n_lags,\n",
    "                           obs_expand_axis=0,\n",
    "                           obs_concat_axis=0,\n",
    "                           obs_padding='zeros')\n",
    "    \n",
    "    for step in tqdm(range(n_steps)): \n",
    "    \n",
    "        # sample training batch\n",
    "        train_batch = sampler.sample(actor=actor,\n",
    "                                     n_transitions=5000,\n",
    "                                     max_path_length=None, \n",
    "                                     reset_when_not_done=False,\n",
    "                                     train_sampling=True)\n",
    "\n",
    "        # update critic\n",
    "        critic_logs = critic.update(train_batch)\n",
    "\n",
    "        # update actor\n",
    "        actor_logs = actor.update(train_batch)\n",
    "\n",
    "        # evaluating the policy\n",
    "        eval_batch = eval_sampler.sample_n_episodes(actor=actor,\n",
    "                                                    n_episodes=5,\n",
    "                                                    max_path_length=None, \n",
    "                                                    train_sampling=False)\n",
    "        # Logging\n",
    "        train_logs = train_batch.create_logs(prefix='train')\n",
    "        eval_logs = eval_batch.create_logs(prefix='eval')\n",
    "\n",
    "        logs = {**critic_logs,\n",
    "                **actor_logs,\n",
    "                **train_logs,\n",
    "                **eval_logs}\n",
    "        all_logs.append(logs)\n",
    "\n",
    "        for key, value in logs.items():\n",
    "            logger.add_scalar(key, value, step)\n",
    "\n",
    "    logger.flush()\n",
    "    \n",
    "    # Saving run's logs\n",
    "    logs_by_run[f'eps_val_{eps}'][run_name] = all_logs\n",
    "    \n",
    "    # Saving models:\n",
    "    actor.save_checkpoint('trained_models', run_name+'_actor')\n",
    "    critic.save_checkpoint('trained_models', run_name+'_critic')"
   ]
  },
  {
   "cell_type": "code",
   "execution_count": 17,
   "metadata": {},
   "outputs": [
    {
     "name": "stdout",
     "output_type": "stream",
     "text": [
      "The tensorboard extension is already loaded. To reload it, use:\n",
      "  %reload_ext tensorboard\n"
     ]
    },
    {
     "data": {
      "text/plain": [
       "Reusing TensorBoard on port 6006 (pid 10006), started 4:47:09 ago. (Use '!kill 10006' to kill it.)"
      ]
     },
     "metadata": {},
     "output_type": "display_data"
    },
    {
     "data": {
      "text/html": [
       "\n",
       "      <iframe id=\"tensorboard-frame-de5a08a24960af4f\" width=\"100%\" height=\"800\" frameborder=\"0\">\n",
       "      </iframe>\n",
       "      <script>\n",
       "        (function() {\n",
       "          const frame = document.getElementById(\"tensorboard-frame-de5a08a24960af4f\");\n",
       "          const url = new URL(\"/\", window.location);\n",
       "          const port = 6006;\n",
       "          if (port) {\n",
       "            url.port = port;\n",
       "          }\n",
       "          frame.src = url;\n",
       "        })();\n",
       "      </script>\n",
       "    "
      ],
      "text/plain": [
       "<IPython.core.display.HTML object>"
      ]
     },
     "metadata": {},
     "output_type": "display_data"
    }
   ],
   "source": [
    "%load_ext tensorboard\n",
    "%tensorboard --logdir /home/nikita/Desktop/RelaxExamples/POMDP/tensorboard_logs"
   ]
  },
  {
   "cell_type": "markdown",
   "metadata": {},
   "source": [
    "# Plot learning curves"
   ]
  },
  {
   "cell_type": "code",
   "execution_count": 38,
   "metadata": {},
   "outputs": [
    {
     "data": {
      "image/png": "[encoded data removed]",
      "text/plain": [
       "<Figure size 864x720 with 4 Axes>"
      ]
     },
     "metadata": {
      "needs_background": "light"
     },
     "output_type": "display_data"
    }
   ],
   "source": [
    "plt.rcParams['figure.figsize'] = (12, 10)\n",
    "\n",
    "def moving_average(x, w):\n",
    "    return np.convolve(x, np.ones(w), 'valid') / w\n",
    "\n",
    "c=1\n",
    "for exp_name, exp_data in logs_by_run.items():\n",
    "    plt.subplot(2, 2, c)\n",
    "    for k, v in exp_data.items():\n",
    "        avg_return = [l['avg_return/eval'] for l in v]\n",
    "        plt.plot(moving_average(avg_return, 5), label=k.replace(env_name, ''))\n",
    "        plt.xlabel('Training step')\n",
    "        plt.ylabel('Avg. return')\n",
    "        plt.ylim(0, 1100)\n",
    "    plt.legend()\n",
    "    plt.title(f'{env_name}, {exp_name}')\n",
    "    c+=1\n",
    "plt.show()"
   ]
  }
 ],
 "metadata": {
  "kernelspec": {
   "display_name": "Python Relax",
   "language": "python",
   "name": "relax"
  },
  "language_info": {
   "codemirror_mode": {
    "name": "ipython",
    "version": 3
   },
   "file_extension": ".py",
   "mimetype": "text/x-python",
   "name": "python",
   "nbconvert_exporter": "python",
   "pygments_lexer": "ipython3",
   "version": "3.6.13"
  }
 },
 "nbformat": 4,
 "nbformat_minor": 4
}
